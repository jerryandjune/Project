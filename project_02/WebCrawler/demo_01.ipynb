{
 "cells": [
  {
   "cell_type": "code",
   "execution_count": 3,
   "metadata": {},
   "outputs": [],
   "source": [
    "import pandas as pd"
   ]
  },
  {
   "cell_type": "code",
   "execution_count": 4,
   "metadata": {},
   "outputs": [
    {
     "data": {
      "text/html": [
       "<div>\n",
       "<style scoped>\n",
       "    .dataframe tbody tr th:only-of-type {\n",
       "        vertical-align: middle;\n",
       "    }\n",
       "\n",
       "    .dataframe tbody tr th {\n",
       "        vertical-align: top;\n",
       "    }\n",
       "\n",
       "    .dataframe thead th {\n",
       "        text-align: right;\n",
       "    }\n",
       "</style>\n",
       "<table border=\"1\" class=\"dataframe\">\n",
       "  <thead>\n",
       "    <tr style=\"text-align: right;\">\n",
       "      <th></th>\n",
       "      <th>comment</th>\n",
       "    </tr>\n",
       "  </thead>\n",
       "  <tbody>\n",
       "    <tr>\n",
       "      <th>0</th>\n",
       "      <td>这几年价格没变，东西越来越不行了，都是蛋皮叠在一起的，奶油少的可怜，现在这款又小又薄，太偷工...</td>\n",
       "    </tr>\n",
       "    <tr>\n",
       "      <th>1</th>\n",
       "      <td>慕斯是做果冻的吉利丁粉做的是假蛋糕。假红牛假RIO假娃哈哈假冒品牌。服务员厨师脾气火爆假巧克...</td>\n",
       "    </tr>\n",
       "    <tr>\n",
       "      <th>2</th>\n",
       "      <td>自己菜不好吃，还不让人剩，从没吃过这么差的自助餐，心情不美好，不会再来地方了😡😡😡😡😡😡</td>\n",
       "    </tr>\n",
       "    <tr>\n",
       "      <th>3</th>\n",
       "      <td>体验不好东西很一般，而且有服务员盯着你，有好多东西不让烤只能涮，怕把纸烤坏了给换纸</td>\n",
       "    </tr>\n",
       "    <tr>\n",
       "      <th>4</th>\n",
       "      <td>第二次来这里，我是***才会来这两次！！第一次给我印象就不好，要不是水货豆捞没开门，加上脑子...</td>\n",
       "    </tr>\n",
       "  </tbody>\n",
       "</table>\n",
       "</div>"
      ],
      "text/plain": [
       "                                             comment\n",
       "0  这几年价格没变，东西越来越不行了，都是蛋皮叠在一起的，奶油少的可怜，现在这款又小又薄，太偷工...\n",
       "1  慕斯是做果冻的吉利丁粉做的是假蛋糕。假红牛假RIO假娃哈哈假冒品牌。服务员厨师脾气火爆假巧克...\n",
       "2       自己菜不好吃，还不让人剩，从没吃过这么差的自助餐，心情不美好，不会再来地方了😡😡😡😡😡😡\n",
       "3          体验不好东西很一般，而且有服务员盯着你，有好多东西不让烤只能涮，怕把纸烤坏了给换纸\n",
       "4  第二次来这里，我是***才会来这两次！！第一次给我印象就不好，要不是水货豆捞没开门，加上脑子..."
      ]
     },
     "execution_count": 4,
     "metadata": {},
     "output_type": "execute_result"
    }
   ],
   "source": [
    "df_10_1 = pd.read_csv('./data/10_1.csv')\n",
    "df_10_1.head()"
   ]
  },
  {
   "cell_type": "code",
   "execution_count": 5,
   "metadata": {},
   "outputs": [
    {
     "data": {
      "text/plain": [
       "(3731, 1)"
      ]
     },
     "execution_count": 5,
     "metadata": {},
     "output_type": "execute_result"
    }
   ],
   "source": [
    "df_10_1.shape"
   ]
  },
  {
   "cell_type": "code",
   "execution_count": 6,
   "metadata": {},
   "outputs": [
    {
     "data": {
      "text/plain": [
       "(3330, 1)"
      ]
     },
     "execution_count": 6,
     "metadata": {},
     "output_type": "execute_result"
    }
   ],
   "source": [
    "df_10_2 = pd.read_csv('./data/10_2.csv')\n",
    "df_10_2.shape"
   ]
  },
  {
   "cell_type": "code",
   "execution_count": 7,
   "metadata": {},
   "outputs": [
    {
     "data": {
      "text/plain": [
       "(7061,)"
      ]
     },
     "execution_count": 7,
     "metadata": {},
     "output_type": "execute_result"
    }
   ],
   "source": [
    "df_10 = df_10_1.append(df_10_2)\n",
    "df_10 = df_10.comment\n",
    "df_10.shape"
   ]
  },
  {
   "cell_type": "code",
   "execution_count": 8,
   "metadata": {},
   "outputs": [],
   "source": [
    "# 只保留中文和数字\n",
    "import re\n",
    "def removeSymbol(str0):\n",
    "#     return re.sub(\"[A-Za-z\\!\\%\\[\\]\\,\\（\\）\\(\\)\\《\\》\\@\\【\\】\\。\\.\\，\\‘\\’\\“\\”\\！\\？\\；\\\"\\'\\;\\:\\：\\、\\\\\\]\", \"\", str0)\n",
    "    filter = "
   ]
  },
  {
   "cell_type": "code",
   "execution_count": 9,
   "metadata": {},
   "outputs": [
    {
     "data": {
      "text/plain": [
       "6802"
      ]
     },
     "execution_count": 9,
     "metadata": {},
     "output_type": "execute_result"
    }
   ],
   "source": [
    "comments = []\n",
    "for i in range(len(df_10)):\n",
    "    c = df_10.iloc[i]\n",
    "    try:\n",
    "        c = removeSymbol(c)\n",
    "#         print(c)\n",
    "    except:\n",
    "        pass\n",
    "    if len(c) >= 10:\n",
    "        comments.append(c)\n",
    "len(comments)"
   ]
  },
  {
   "cell_type": "code",
   "execution_count": 10,
   "metadata": {},
   "outputs": [],
   "source": [
    "df_50_1 = pd.read_csv('./data/50_1.csv')\n",
    "df_50_2 = pd.read_csv('./data/50_2.csv')\n",
    "df_50 = df_50_1.append(df_50_2)"
   ]
  },
  {
   "cell_type": "code",
   "execution_count": 11,
   "metadata": {},
   "outputs": [
    {
     "data": {
      "text/plain": [
       "(97093, 1)"
      ]
     },
     "execution_count": 11,
     "metadata": {},
     "output_type": "execute_result"
    }
   ],
   "source": [
    "df_50.shape"
   ]
  },
  {
   "cell_type": "code",
   "execution_count": 12,
   "metadata": {},
   "outputs": [],
   "source": [
    "df_50 = df_50.comment"
   ]
  },
  {
   "cell_type": "code",
   "execution_count": 13,
   "metadata": {},
   "outputs": [
    {
     "data": {
      "text/plain": [
       "6800"
      ]
     },
     "execution_count": 13,
     "metadata": {},
     "output_type": "execute_result"
    }
   ],
   "source": [
    "comments2 = []\n",
    "idx = 0\n",
    "for i in range(len(df_50)):\n",
    "    c = df_50.iloc[i]\n",
    "    try:\n",
    "        c = removeSymbol(c)\n",
    "    except:\n",
    "        pass\n",
    "    if len(c) >= 10:\n",
    "        comments2.append(c)\n",
    "        idx += 1\n",
    "    if idx >= 6800:\n",
    "        break\n",
    "len(comments2)"
   ]
  },
  {
   "cell_type": "code",
   "execution_count": 14,
   "metadata": {},
   "outputs": [],
   "source": [
    "import numpy as np"
   ]
  },
  {
   "cell_type": "code",
   "execution_count": 15,
   "metadata": {},
   "outputs": [
    {
     "name": "stdout",
     "output_type": "stream",
     "text": [
      "X_train_copy len: 12000\n",
      "X_test_copy len: 1600\n"
     ]
    }
   ],
   "source": [
    "X_train_copy = comments[:6000] + comments2[:6000]\n",
    "y_train_copy = [0 for i in range(6000)] + [1 for i in range(6000)]\n",
    "X_test_copy = comments[6000:6800] + comments2[6000:6800]\n",
    "y_test_copy = [0 for i in range(800)] + [1 for i in range(800)]\n",
    "print(\"X_train_copy len:\", len(X_train_copy))\n",
    "print(\"X_test_copy len:\", len(X_test_copy))"
   ]
  },
  {
   "cell_type": "code",
   "execution_count": 16,
   "metadata": {},
   "outputs": [
    {
     "data": {
      "text/plain": [
       "['上菜速度相当之慢就不说了面里吃出了虫子最后退了面的钱送了水果不是要它赔多少本来吃出虫子就很恶心然而店里没有一丝歉意没有一句抱歉一副理所当然的表情仿佛这碗面里本来就该吃出一条虫来',\n",
       " '味道一般不够卫生吃完回来就闹肚子太严重了吃完的结果如图',\n",
       " '点的毛血旺里面一堆鸭血还有不知道乱糟的啥东西反正除了辣我是没吃出什么味道点菜的时候服务员说话声那么小嬉皮笑脸的跟个女人似的上菜慢的要死如果不是我催的话是不是这菜不打算给我上了',\n",
       " '味道太差了没有火锅的味道美团的4人套餐感觉菜品不新鲜',\n",
       " '位置在柳城干道第一次去五个人点的八人餐简直太咸了也没有火锅麻辣香味道虽然都是龙腾比起庭院味道简直差远了剩了很多菜一家人吃的很不满意',\n",
       " '服务态度差菜品份量少味道一般',\n",
       " '味道一般7越吃越辣服务没法说了我们是聚餐嘛人有点儿多就需要加菜结果她好像特别不愿意一样问她这没有那没有只有团购才有也是醉了',\n",
       " '去了几次都还行这次服务差半天不让菜喊两次调火都说最大了半天不开第三次喊一个小伙子调火一下就大了我不知道是干嘛吃的',\n",
       " '服务态度差环境差再也不来了什么破地方',\n",
       " '环境差味道更不用说啦不正宗还什么技术传授我的个天谁能理解藕片里吃出钢丝球然后找服务员服务员说怎么嚼不动……😱神回复啊牛肉很膻汤勾兑的色香味都谈不上墙上网上挂的牛杂60/斤点了半斤对不起35块这也是第一次遇到反正基本上是我遇到的美团上最差的底线了吧再也不相信秒杀了',\n",
       " '吃的境界中庸有言在先人莫不能饮食也鲜能知味也吃饭是件容易的事但能吃好的人极为稀少不知其味吃了白吃从小到大家里对吃的一直比较讲究所以本人对餐厅自然也是挑剔无意中看到了这家餐厅看看评价都不错但还是有些质疑怎么办试试不就知道了就怕花了钱又不好吃所以就用优惠套餐吧如果不好吃也不会浪费太多钱万万没想到的是一进这家餐厅就能勾起了食欲环境不用多说看照片就知道了肉片切得薄厚适中配上纯铜的锅保证了肉片烤制的口感这样的吃法是考验食材的新鲜度的总之是可以让我回味的一家餐厅服务也细致值得推荐',\n",
       " '店铺就在小朋友上兴趣班的旁边在美团点了个2人套餐所以下课就直接奔他们家去了一进里面装修是我喜欢的简约有品味菜品上来后又被惊喜到装盘很精致一个类似火锅的锅子既可以涮又可以烤对于喜欢吃肉的我来说简直太棒了食材很新鲜入口鲜爽人均65元／人左右的消费物超所值其实最打动人的是店家的那一句和喜欢的人一起和喜欢的人一起吃饭是一件幸福的事',\n",
       " '两人去吃分量太足根本吃不完味道还是一如既往的好服务也蛮好最喜欢南瓜泥要是自助的就好了哈哈哈哈哈#猎户南瓜粥##石锅拌饭##欧巴芝士年糕#',\n",
       " '26的套餐女生一个人可以吃的很饱南瓜粥味道很好海带汤和石锅拌饭也不错服务很好从进门到坐下都很热情服务员会主动帮忙拌饭添茶水会询问南瓜粥要不要续杯会过来确认上菜情况环境让人放松有种坐在森林小木屋的感觉#猎户南瓜粥#',\n",
       " '非常好吃肉很新鲜服务也超级超级好服务员一直很耐心帮我们烤肉#猎户南瓜粥##猪肉拼盘##泡菜饼#',\n",
       " '这家店已经吃了好几年了只认准这家店的烤肉一直都是之前的味道买了168的券加了40元分量大了好多店铺环境很棒最值得推荐的是他们家的烤炉完全是无烟的吃完之后没有在衣服上留下味道超级棒服务员的服务也非常的好棒棒棒',\n",
       " '料足清淡新鲜味道非常好特别是里面的芒果真的好多好新鲜也很方便电话预约下班直接过去取就好了',\n",
       " '奶油巨巨巨巨好吃我的妈啊必须给我买它',\n",
       " '千层不错水果量很足很新鲜',\n",
       " '买了多次昨天提了点小要求也满足了很不错推荐这家保健路的店啦']"
      ]
     },
     "execution_count": 16,
     "metadata": {},
     "output_type": "execute_result"
    }
   ],
   "source": [
    "X_train_copy[5990:6010]"
   ]
  },
  {
   "cell_type": "code",
   "execution_count": 17,
   "metadata": {},
   "outputs": [],
   "source": [
    "X_train = []\n",
    "y_train = []\n",
    "X_test = []\n",
    "y_test = []\n",
    "\n",
    "nums = np.arange(12000)\n",
    "np.random.shuffle(nums)\n",
    "for i in nums:\n",
    "    X_train.append(X_train_copy[i])\n",
    "    y_train.append(y_train_copy[i])\n",
    "\n",
    "nums_ = np.arange(1600)\n",
    "np.random.shuffle(nums_)\n",
    "for i in nums_:\n",
    "    X_test.append(X_test_copy[i])\n",
    "    y_test.append(y_test_copy[i])"
   ]
  },
  {
   "cell_type": "code",
   "execution_count": 18,
   "metadata": {},
   "outputs": [
    {
     "data": {
      "text/plain": [
       "['跟老公两个去的点了很多菜量绝对足味道超赞噢',\n",
       " '牛杂份量很足还有送的豆浆牛筋很老板娘态度也不错下次再去',\n",
       " '寿司味道挺不错种类丰富但服务员的态度有点无语…',\n",
       " '挺好11111111111111',\n",
       " '环境一般价格实惠吧过的去还行吧',\n",
       " '环境不好东西不新鲜饮料可乐没有汽卫生不干净不会再来这家店消费了一次生意差评差评差评',\n",
       " '怎么为什么没有团购啦',\n",
       " '味道超级好～反正还算近的一定会再去的～',\n",
       " '菜很少也不好吃点一份蛋炒饭等了几十分钟服务也一般',\n",
       " '那天去也没几个人也没什么好吃的生鱼片就一点点菜品都很一般很一般完全不值158']"
      ]
     },
     "execution_count": 18,
     "metadata": {},
     "output_type": "execute_result"
    }
   ],
   "source": [
    "X_train[:10]"
   ]
  },
  {
   "cell_type": "code",
   "execution_count": 19,
   "metadata": {},
   "outputs": [
    {
     "data": {
      "text/plain": [
       "[1, 1, 1, 1, 1, 0, 1, 1, 0, 0]"
      ]
     },
     "execution_count": 19,
     "metadata": {},
     "output_type": "execute_result"
    }
   ],
   "source": [
    "y_train[:10]"
   ]
  },
  {
   "cell_type": "code",
   "execution_count": 20,
   "metadata": {},
   "outputs": [],
   "source": [
    "y_train = np.asarray(y_train, dtype=np.float32)  # 将labels转换为numpy数组\n",
    "y_test = np.asarray(y_test, dtype=np.float32)"
   ]
  },
  {
   "cell_type": "code",
   "execution_count": 21,
   "metadata": {},
   "outputs": [
    {
     "data": {
      "text/plain": [
       "['好吃又便宜又挺卫生的下次还要买',\n",
       " '好吃芥末很赞~烤鸭的火喷出来的时候好酷~',\n",
       " '一般一般真的一般一般一般真一般',\n",
       " '我最爱超爱吃下次还会去买',\n",
       " '美团吃了次远远没有上次实体店吃起来好吃鱼吃起来不新鲜一点味道都没有像在吃死了很久的鱼一样',\n",
       " '已经去买过好几次了以前都很多人要等挑了过人少的时间去很快就好了',\n",
       " '味道和以前吃的一样喜欢吃樱花的外观也很好看值得买',\n",
       " '不错很好吃效率也很高推荐',\n",
       " '真的很难吃感觉菜品也不是很新鲜',\n",
       " '还可以口味不错的看电影时顺路拿了挺方便的']"
      ]
     },
     "execution_count": 21,
     "metadata": {},
     "output_type": "execute_result"
    }
   ],
   "source": [
    "X_test[:10]"
   ]
  },
  {
   "cell_type": "code",
   "execution_count": 22,
   "metadata": {},
   "outputs": [
    {
     "data": {
      "text/plain": [
       "array([1., 1., 0., 1., 0., 1., 1., 1., 0., 1.], dtype=float32)"
      ]
     },
     "execution_count": 22,
     "metadata": {},
     "output_type": "execute_result"
    }
   ],
   "source": [
    "y_test[:10]"
   ]
  },
  {
   "cell_type": "code",
   "execution_count": 23,
   "metadata": {},
   "outputs": [],
   "source": [
    "input_train = np.zeros((len(X_train), 768))\n",
    "data_test = np.zeros((len(X_test), 768))"
   ]
  },
  {
   "cell_type": "code",
   "execution_count": null,
   "metadata": {},
   "outputs": [],
   "source": []
  },
  {
   "cell_type": "code",
   "execution_count": 25,
   "metadata": {},
   "outputs": [
    {
     "name": "stdout",
     "output_type": "stream",
     "text": [
      "server config:\n",
      "                     statistic\t=\t{'num_max_request_per_client': 1, 'num_min_request_per_client': 1, 'num_total_client': 1, 'num_total_request': 1, 'max_request_per_client': 1, 'num_data_request': 0, 'min_request_per_client': 1, 'avg_request_per_client': 1.0, 'num_total_seq': 0, 'num_sys_request': 1, 'num_active_client': 0}\n",
      "                          fp16\t=\tFalse                         \n",
      "                 prefetch_size\t=\t10                            \n",
      "                server_version\t=\t1.8.3                         \n",
      "                        client\t=\ted7c26b5-6147-4395-8887-0af5dda58fe4\n",
      "           server_current_time\t=\t2019-03-11 17:38:47.211219    \n",
      "                   config_name\t=\tbert_config.json              \n",
      "                   zmq_version\t=\t4.2.5                         \n",
      "           ventilator <-> sink\t=\tipc://tmp8o69nx/socket        \n",
      "               tuned_model_dir\t=\tNone                          \n",
      "                 graph_tmp_dir\t=\tNone                          \n",
      "                 pyzmq_version\t=\t17.1.2                        \n",
      "                          port\t=\t4444                          \n",
      "              pooling_strategy\t=\t2                             \n",
      "                      port_out\t=\t4445                          \n",
      "                     ckpt_name\t=\tbert_model.ckpt               \n",
      "                   max_seq_len\t=\t80                            \n",
      "         num_concurrent_socket\t=\t8                             \n",
      "            fixed_embed_length\t=\tFalse                         \n",
      "                     http_port\t=\tNone                          \n",
      "              http_max_connect\t=\t10                            \n",
      "          ventilator -> worker\t=\t['ipc://tmp7xeIQg/socket', 'ipc://tmpyyOCs0/socket', 'ipc://tmpzeWP6J/socket', 'ipc://tmpyBJ6Lt/socket', 'ipc://tmpxWVJyd/socket', 'ipc://tmpyhhKmX/socket', 'ipc://tmpT87VjH/socket', 'ipc://tmp61qEir/socket']\n",
      "                worker -> sink\t=\tipc://tmpL21LRT/socket        \n",
      "                  mask_cls_sep\t=\tFalse                         \n",
      "                max_batch_size\t=\t256                           \n",
      "                          cors\t=\t*                             \n",
      "                     model_dir\t=\t/home1/xuyechen/JupyterLab/bert/bert_as_service_demo/chinese_L-12_H-768_A-12\n",
      "                   num_process\t=\t5                             \n",
      "         show_tokens_to_client\t=\tFalse                         \n",
      "                           xla\t=\tFalse                         \n",
      "           priority_batch_size\t=\t16                            \n",
      "                       verbose\t=\tFalse                         \n",
      "            tensorflow_version\t=\t['1', '12', '0']              \n",
      "                    num_worker\t=\t4                             \n",
      "             server_start_time\t=\t2019-03-11 17:33:25.852389    \n",
      "                           cpu\t=\tFalse                         \n",
      "                 pooling_layer\t=\t[-2]                          \n",
      "                python_version\t=\t3.5.6 |Anaconda, Inc.| (default, Aug 26 2018, 21:41:56) \n",
      "[GCC 7.3.0]\n",
      "           gpu_memory_fraction\t=\t0.5                           \n",
      "                    device_map\t=\t[]                            \n"
     ]
    }
   ],
   "source": [
    "from bert_serving.client import BertClient\n",
    "bc = BertClient(port=4444, port_out=4445, show_server_config=True, verbose=True, check_version=False)"
   ]
  },
  {
   "cell_type": "markdown",
   "metadata": {},
   "source": [
    "## 使用bert-as-service来提取中文句子的特征"
   ]
  },
  {
   "cell_type": "code",
   "execution_count": 26,
   "metadata": {},
   "outputs": [],
   "source": [
    "input_train = bc.encode(X_train)"
   ]
  },
  {
   "cell_type": "code",
   "execution_count": 28,
   "metadata": {},
   "outputs": [],
   "source": [
    "data_test = bc.encode(X_test)"
   ]
  },
  {
   "cell_type": "code",
   "execution_count": 41,
   "metadata": {},
   "outputs": [],
   "source": [
    "input_train = np.asarray(input_train, dtype=np.float32)\n",
    "data_test = np.array(data_test, dtype=np.float32)"
   ]
  },
  {
   "cell_type": "code",
   "execution_count": 57,
   "metadata": {},
   "outputs": [],
   "source": [
    "from tensorflow import keras\n",
    "from keras.models import Sequential\n",
    "from keras.layers import Dense, Dropout\n",
    "import tensorflow as tf"
   ]
  },
  {
   "cell_type": "code",
   "execution_count": 54,
   "metadata": {},
   "outputs": [],
   "source": [
    "model = Sequential()"
   ]
  },
  {
   "cell_type": "code",
   "execution_count": 55,
   "metadata": {},
   "outputs": [],
   "source": [
    "model.add(Dense(32, activation='relu', input_shape=(768,)))\n",
    "model.add(Dropout(0.3))\n",
    "model.add(Dense(32, activation='relu'))\n",
    "model.add(Dense(1, activation='sigmoid'))"
   ]
  },
  {
   "cell_type": "code",
   "execution_count": 56,
   "metadata": {},
   "outputs": [
    {
     "name": "stdout",
     "output_type": "stream",
     "text": [
      "_________________________________________________________________\n",
      "Layer (type)                 Output Shape              Param #   \n",
      "=================================================================\n",
      "dense_10 (Dense)             (None, 32)                24608     \n",
      "_________________________________________________________________\n",
      "dropout_3 (Dropout)          (None, 32)                0         \n",
      "_________________________________________________________________\n",
      "dense_11 (Dense)             (None, 32)                1056      \n",
      "_________________________________________________________________\n",
      "dense_12 (Dense)             (None, 1)                 33        \n",
      "=================================================================\n",
      "Total params: 25,697\n",
      "Trainable params: 25,697\n",
      "Non-trainable params: 0\n",
      "_________________________________________________________________\n"
     ]
    }
   ],
   "source": [
    "model.summary()"
   ]
  },
  {
   "cell_type": "code",
   "execution_count": 62,
   "metadata": {},
   "outputs": [],
   "source": [
    "model.compile(\n",
    "    loss='binary_crossentropy',\n",
    "    optimizer=tf.train.AdamOptimizer(),\n",
    "    metrics=['acc']\n",
    ")"
   ]
  },
  {
   "cell_type": "code",
   "execution_count": 63,
   "metadata": {},
   "outputs": [
    {
     "name": "stdout",
     "output_type": "stream",
     "text": [
      "Train on 9600 samples, validate on 2400 samples\n",
      "Epoch 1/30\n",
      "9600/9600 [==============================] - 1s 84us/step - loss: 0.3152 - acc: 0.8650 - val_loss: 0.1455 - val_acc: 0.9479\n",
      "Epoch 2/30\n",
      "9600/9600 [==============================] - 0s 32us/step - loss: 0.1586 - acc: 0.9483 - val_loss: 0.1232 - val_acc: 0.9571\n",
      "Epoch 3/30\n",
      "9600/9600 [==============================] - 0s 33us/step - loss: 0.1391 - acc: 0.9553 - val_loss: 0.1161 - val_acc: 0.9604\n",
      "Epoch 4/30\n",
      "9600/9600 [==============================] - 0s 31us/step - loss: 0.1314 - acc: 0.9555 - val_loss: 0.1155 - val_acc: 0.9596\n",
      "Epoch 5/30\n",
      "9600/9600 [==============================] - 0s 30us/step - loss: 0.1201 - acc: 0.9595 - val_loss: 0.1123 - val_acc: 0.9604\n",
      "Epoch 6/30\n",
      "9600/9600 [==============================] - 0s 32us/step - loss: 0.1126 - acc: 0.9626 - val_loss: 0.1111 - val_acc: 0.9600\n",
      "Epoch 7/30\n",
      "9600/9600 [==============================] - 0s 33us/step - loss: 0.1106 - acc: 0.9632 - val_loss: 0.1200 - val_acc: 0.9579\n",
      "Epoch 8/30\n",
      "9600/9600 [==============================] - 0s 32us/step - loss: 0.1089 - acc: 0.9644 - val_loss: 0.1179 - val_acc: 0.9613\n",
      "Epoch 9/30\n",
      "9600/9600 [==============================] - 0s 32us/step - loss: 0.1083 - acc: 0.9624 - val_loss: 0.1136 - val_acc: 0.9621\n",
      "Epoch 10/30\n",
      "9600/9600 [==============================] - 0s 32us/step - loss: 0.1028 - acc: 0.9654 - val_loss: 0.1125 - val_acc: 0.9621\n",
      "Epoch 11/30\n",
      "9600/9600 [==============================] - 0s 32us/step - loss: 0.0986 - acc: 0.9683 - val_loss: 0.1164 - val_acc: 0.9625\n",
      "Epoch 12/30\n",
      "9600/9600 [==============================] - 0s 31us/step - loss: 0.0927 - acc: 0.9694 - val_loss: 0.1137 - val_acc: 0.9629\n",
      "Epoch 13/30\n",
      "9600/9600 [==============================] - 0s 32us/step - loss: 0.0879 - acc: 0.9721 - val_loss: 0.1160 - val_acc: 0.9642\n",
      "Epoch 14/30\n",
      "9600/9600 [==============================] - 0s 32us/step - loss: 0.0890 - acc: 0.9709 - val_loss: 0.1199 - val_acc: 0.9617\n",
      "Epoch 15/30\n",
      "9600/9600 [==============================] - 0s 31us/step - loss: 0.0883 - acc: 0.9712 - val_loss: 0.1153 - val_acc: 0.9613\n",
      "Epoch 16/30\n",
      "9600/9600 [==============================] - 0s 32us/step - loss: 0.0808 - acc: 0.9720 - val_loss: 0.1172 - val_acc: 0.9613\n",
      "Epoch 17/30\n",
      "9600/9600 [==============================] - 0s 32us/step - loss: 0.0797 - acc: 0.9752 - val_loss: 0.1256 - val_acc: 0.9596\n",
      "Epoch 18/30\n",
      "9600/9600 [==============================] - 0s 30us/step - loss: 0.0786 - acc: 0.9747 - val_loss: 0.1172 - val_acc: 0.9650\n",
      "Epoch 19/30\n",
      "9600/9600 [==============================] - 0s 31us/step - loss: 0.0767 - acc: 0.9736 - val_loss: 0.1222 - val_acc: 0.9617\n",
      "Epoch 20/30\n",
      "9600/9600 [==============================] - 0s 32us/step - loss: 0.0726 - acc: 0.9772 - val_loss: 0.1179 - val_acc: 0.9658\n",
      "Epoch 21/30\n",
      "9600/9600 [==============================] - 0s 32us/step - loss: 0.0707 - acc: 0.9769 - val_loss: 0.1192 - val_acc: 0.9646\n",
      "Epoch 22/30\n",
      "9600/9600 [==============================] - 0s 34us/step - loss: 0.0722 - acc: 0.9760 - val_loss: 0.1218 - val_acc: 0.9629\n",
      "Epoch 23/30\n",
      "9600/9600 [==============================] - 0s 33us/step - loss: 0.0687 - acc: 0.9761 - val_loss: 0.1261 - val_acc: 0.9642\n",
      "Epoch 24/30\n",
      "9600/9600 [==============================] - 0s 33us/step - loss: 0.0668 - acc: 0.9799 - val_loss: 0.1239 - val_acc: 0.9629\n",
      "Epoch 25/30\n",
      "9600/9600 [==============================] - 0s 34us/step - loss: 0.0634 - acc: 0.9794 - val_loss: 0.1286 - val_acc: 0.9642\n",
      "Epoch 26/30\n",
      "9600/9600 [==============================] - 0s 34us/step - loss: 0.0642 - acc: 0.9792 - val_loss: 0.1325 - val_acc: 0.9621\n",
      "Epoch 27/30\n",
      "9600/9600 [==============================] - 0s 32us/step - loss: 0.0614 - acc: 0.9796 - val_loss: 0.1350 - val_acc: 0.9654\n",
      "Epoch 28/30\n",
      "9600/9600 [==============================] - 0s 34us/step - loss: 0.0592 - acc: 0.9804 - val_loss: 0.1344 - val_acc: 0.9625\n",
      "Epoch 29/30\n",
      "9600/9600 [==============================] - 0s 34us/step - loss: 0.0629 - acc: 0.9781 - val_loss: 0.1376 - val_acc: 0.9613\n",
      "Epoch 30/30\n",
      "9600/9600 [==============================] - 0s 32us/step - loss: 0.0583 - acc: 0.9800 - val_loss: 0.1350 - val_acc: 0.9621\n"
     ]
    }
   ],
   "source": [
    "history = model.fit(\n",
    "    input_train, y_train,\n",
    "    epochs=30,\n",
    "    batch_size=128,\n",
    "    validation_split=0.2,\n",
    "    verbose=1\n",
    ")"
   ]
  },
  {
   "cell_type": "code",
   "execution_count": 65,
   "metadata": {},
   "outputs": [
    {
     "data": {
      "text/plain": [
       "dict_keys(['acc', 'loss', 'val_acc', 'val_loss'])"
      ]
     },
     "execution_count": 65,
     "metadata": {},
     "output_type": "execute_result"
    }
   ],
   "source": [
    "history_dict = history.history\n",
    "history_dict.keys()"
   ]
  },
  {
   "cell_type": "code",
   "execution_count": 66,
   "metadata": {},
   "outputs": [],
   "source": [
    "import matplotlib.pyplot as plt"
   ]
  },
  {
   "cell_type": "code",
   "execution_count": 71,
   "metadata": {},
   "outputs": [
    {
     "data": {
      "image/png": "[encoded data removed]",
      "text/plain": [
       "<Figure size 432x288 with 1 Axes>"
      ]
     },
     "metadata": {
      "needs_background": "light"
     },
     "output_type": "display_data"
    }
   ],
   "source": [
    "epochs = range(1, len(history_dict['acc']) + 1)\n",
    "plt.figure()\n",
    "plt.plot(epochs, history_dict['acc'], 'b', label='acc')\n",
    "plt.plot(epochs, history_dict['val_acc'], 'bo', label='val_acc')\n",
    "plt.xlabel('Epochs')\n",
    "plt.ylabel('Accuracy')\n",
    "plt.legend()\n",
    "plt.show()"
   ]
  },
  {
   "cell_type": "code",
   "execution_count": 1,
   "metadata": {},
   "outputs": [
    {
     "ename": "NameError",
     "evalue": "name 'plt' is not defined",
     "output_type": "error",
     "traceback": [
      "\u001b[0;31m---------------------------------------------------------------------------\u001b[0m",
      "\u001b[0;31mNameError\u001b[0m                                 Traceback (most recent call last)",
      "\u001b[0;32m<ipython-input-1-2f16f048cbc8>\u001b[0m in \u001b[0;36m<module>\u001b[0;34m()\u001b[0m\n\u001b[0;32m----> 1\u001b[0;31m \u001b[0mplt\u001b[0m\u001b[0;34m.\u001b[0m\u001b[0mclf\u001b[0m\u001b[0;34m(\u001b[0m\u001b[0;34m)\u001b[0m\u001b[0;34m\u001b[0m\u001b[0m\n\u001b[0m\u001b[1;32m      2\u001b[0m \u001b[0mplt\u001b[0m\u001b[0;34m.\u001b[0m\u001b[0mfigure\u001b[0m\u001b[0;34m(\u001b[0m\u001b[0;34m)\u001b[0m\u001b[0;34m\u001b[0m\u001b[0m\n\u001b[1;32m      3\u001b[0m \u001b[0mplt\u001b[0m\u001b[0;34m.\u001b[0m\u001b[0mplot\u001b[0m\u001b[0;34m(\u001b[0m\u001b[0mepochs\u001b[0m\u001b[0;34m,\u001b[0m \u001b[0mhistory_dict\u001b[0m\u001b[0;34m[\u001b[0m\u001b[0;34m'loss'\u001b[0m\u001b[0;34m]\u001b[0m\u001b[0;34m,\u001b[0m \u001b[0;34m'b'\u001b[0m\u001b[0;34m,\u001b[0m \u001b[0mlabel\u001b[0m\u001b[0;34m=\u001b[0m\u001b[0;34m'acc'\u001b[0m\u001b[0;34m)\u001b[0m\u001b[0;34m\u001b[0m\u001b[0m\n\u001b[1;32m      4\u001b[0m \u001b[0mplt\u001b[0m\u001b[0;34m.\u001b[0m\u001b[0mplot\u001b[0m\u001b[0;34m(\u001b[0m\u001b[0mepochs\u001b[0m\u001b[0;34m,\u001b[0m \u001b[0mhistory_dict\u001b[0m\u001b[0;34m[\u001b[0m\u001b[0;34m'val_loss'\u001b[0m\u001b[0;34m]\u001b[0m\u001b[0;34m,\u001b[0m \u001b[0;34m'bo'\u001b[0m\u001b[0;34m,\u001b[0m \u001b[0mlabel\u001b[0m\u001b[0;34m=\u001b[0m\u001b[0;34m'val_acc'\u001b[0m\u001b[0;34m)\u001b[0m\u001b[0;34m\u001b[0m\u001b[0m\n\u001b[1;32m      5\u001b[0m \u001b[0mplt\u001b[0m\u001b[0;34m.\u001b[0m\u001b[0mxlabel\u001b[0m\u001b[0;34m(\u001b[0m\u001b[0;34m'Epochs'\u001b[0m\u001b[0;34m)\u001b[0m\u001b[0;34m\u001b[0m\u001b[0m\n",
      "\u001b[0;31mNameError\u001b[0m: name 'plt' is not defined"
     ]
    }
   ],
   "source": [
    "plt.clf()\n",
    "plt.figure()\n",
    "plt.plot(epochs, history_dict['loss'], 'b', label='acc')\n",
    "plt.plot(epochs, history_dict['val_loss'], 'bo', label='val_acc')\n",
    "plt.xlabel('Epochs')\n",
    "plt.ylabel('Loss')\n",
    "plt.legend()\n",
    "plt.show()"
   ]
  },
  {
   "cell_type": "code",
   "execution_count": 78,
   "metadata": {},
   "outputs": [],
   "source": [
    "test_demo = ['西兰花里面的辅料不新鲜，都是味精和盐，不是形成烧的，可能微波炉热一下吧', \n",
    "             '整体来说还不错，美团比较划算',\n",
    "             '上菜特别快服务员礼貌热情前台小姐姐也太好看了吧',\n",
    "             '发现了除国大广场店以外的又一家门店，人少，服务好，强烈推荐！',\n",
    "             '菜上的慢不说，吃完肚子还痛了。服务员服务态度很一般甚至可以说不耐烦，点了饮料火锅都吃一半了，才上来。'\n",
    "            ]\n",
    "test_demo_vec = bc.encode(test_demo)"
   ]
  },
  {
   "cell_type": "code",
   "execution_count": 79,
   "metadata": {},
   "outputs": [
    {
     "data": {
      "text/plain": [
       "(5, 768)"
      ]
     },
     "execution_count": 79,
     "metadata": {},
     "output_type": "execute_result"
    }
   ],
   "source": [
    "test_demo_vec.shape"
   ]
  },
  {
   "cell_type": "code",
   "execution_count": 80,
   "metadata": {},
   "outputs": [],
   "source": [
    "test_res = model.predict(test_demo_vec)"
   ]
  },
  {
   "cell_type": "code",
   "execution_count": 85,
   "metadata": {},
   "outputs": [
    {
     "data": {
      "text/plain": [
       "[0, 1, 1, 1, 0]"
      ]
     },
     "execution_count": 85,
     "metadata": {},
     "output_type": "execute_result"
    }
   ],
   "source": [
    "test_res = [1 if x> 0.5 else 0 for x in test_res]\n",
    "test_res"
   ]
  },
  {
   "cell_type": "code",
   "execution_count": 86,
   "metadata": {},
   "outputs": [
    {
     "name": "stdout",
     "output_type": "stream",
     "text": [
      "1600/1600 [==============================] - 0s 22us/step\n"
     ]
    }
   ],
   "source": [
    "test_loss = model.evaluate(\n",
    "    data_test,\n",
    "    y_test,\n",
    "    batch_size=63,\n",
    "    verbose=1\n",
    ")"
   ]
  },
  {
   "cell_type": "code",
   "execution_count": 87,
   "metadata": {},
   "outputs": [
    {
     "data": {
      "text/plain": [
       "[0.07956909381508012, 0.9731250016018749]"
      ]
     },
     "execution_count": 87,
     "metadata": {},
     "output_type": "execute_result"
    }
   ],
   "source": [
    "test_loss  # 返回的结果分别是loss和accuracy"
   ]
  },
  {
   "cell_type": "code",
   "execution_count": 88,
   "metadata": {},
   "outputs": [
    {
     "data": {
      "text/plain": [
       "['loss', 'acc']"
      ]
     },
     "execution_count": 88,
     "metadata": {},
     "output_type": "execute_result"
    }
   ],
   "source": [
    "model.metrics_names"
   ]
  },
  {
   "cell_type": "code",
   "execution_count": null,
   "metadata": {},
   "outputs": [],
   "source": []
  },
  {
   "cell_type": "code",
   "execution_count": null,
   "metadata": {},
   "outputs": [],
   "source": []
  }
 ],
 "metadata": {
  "kernelspec": {
   "display_name": "MC_py36",
   "language": "python",
   "name": "mc_py36"
  },
  "language_info": {
   "codemirror_mode": {
    "name": "ipython",
    "version": 3
   },
   "file_extension": ".py",
   "mimetype": "text/x-python",
   "name": "python",
   "nbconvert_exporter": "python",
   "pygments_lexer": "ipython3",
   "version": "3.6.0"
  }
 },
 "nbformat": 4,
 "nbformat_minor": 2
}
